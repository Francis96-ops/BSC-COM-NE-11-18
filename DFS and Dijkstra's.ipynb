{
 "cells": [
  {
   "cell_type": "code",
   "execution_count": 2,
   "id": "4c0cf660",
   "metadata": {
    "scrolled": true
   },
   "outputs": [
    {
     "name": "stdout",
     "output_type": "stream",
     "text": [
      "Path is : ['S', 'C', 'D', 'E']\n",
      "Path is : ['S', 'C', 'D', 'B', 'E']\n"
     ]
    }
   ],
   "source": [
    "#Part1 \n",
    "graph={\n",
    "    'S':['B','A','C'],\n",
    "    'A':['S','B','C',],\n",
    "    'B':['A','D','E'],\n",
    "    'C':['S','D','S'],\n",
    "    'D':['B','C','E'],\n",
    "    'E':['B','D']\n",
    "}\n",
    "def dfs(my_graph, start, goal):\n",
    "    stack = [[start]]\n",
    "    visited = []\n",
    "    while stack:\n",
    "        path = stack.pop(0)\n",
    "        node = path[-1]\n",
    "        if node == goal:\n",
    "            print(\"Path is :\", path)\n",
    "        elif node not in visited:\n",
    "            children=my_graph[node]\n",
    "            for child in children:\n",
    "                newPath=path+[child]\n",
    "                stack.insert(0,newPath)\n",
    "            visited.append(node)\n",
    "                                 \n",
    "dfs(graph,'S','E')                "
   ]
  },
  {
   "cell_type": "code",
   "execution_count": 12,
   "id": "2e0151b7",
   "metadata": {},
   "outputs": [
    {
     "name": "stdout",
     "output_type": "stream",
     "text": [
      "Shorthest path is:  ['S', 'A', 'B', 'E']\n"
     ]
    }
   ],
   "source": [
    "#Part 2 \n",
    "import heapq\n",
    "\n",
    "if __name__ == \"__main__\":\n",
    "    graph={ \n",
    "            'S':{'A':1,'C':2},\n",
    "            'A':{'B':1},\n",
    "            'B':{'D':1,'E':2},\n",
    "            'C':{'A':4,'D':3},\n",
    "            'D':{'E':1},\n",
    "            'E':{'B':2,'D':1},\n",
    "    }\n",
    "    print(\"Shorthest path is: \",dijkstra(graph, \"S\", \"E\"))\n",
    "    \n",
    "def dijkstra(graph, start_node, goal_node):\n",
    "    # initialize\n",
    "    distance = {}\n",
    "    previous = {}\n",
    "    for node in graph:\n",
    "        distance[node] = float(\"inf\")\n",
    "        previous[node] = None\n",
    "    distance[start_node] = 0\n",
    "    # create a priority queue\n",
    "    queue = []\n",
    "    for node in graph:\n",
    "        heapq.heappush(queue, (distance[node], node))\n",
    "    # loop\n",
    "    while queue:\n",
    "        current_distance, current_node = heapq.heappop(queue)\n",
    "        if current_distance > distance[current_node]:\n",
    "            continue\n",
    "        for neighbor, weight in graph[current_node].items():\n",
    "            distance_candidate = current_distance + weight\n",
    "            if distance_candidate < distance[neighbor]:\n",
    "                distance[neighbor] = distance_candidate\n",
    "                previous[neighbor] = current_node\n",
    "                heapq.heappush(queue, (distance[neighbor], neighbor))\n",
    "    # return\n",
    "    path = [goal_node]\n",
    "    while previous[goal_node]:\n",
    "        path.append(previous[goal_node])\n",
    "        goal_node = previous[goal_node]\n",
    "    return path[::-1]\n"
   ]
  },
  {
   "cell_type": "code",
   "execution_count": null,
   "id": "0cd1b7e2",
   "metadata": {},
   "outputs": [],
   "source": []
  },
  {
   "cell_type": "code",
   "execution_count": null,
   "id": "11aa0563",
   "metadata": {},
   "outputs": [],
   "source": []
  }
 ],
 "metadata": {
  "kernelspec": {
   "display_name": "Python 3 (ipykernel)",
   "language": "python",
   "name": "python3"
  },
  "language_info": {
   "codemirror_mode": {
    "name": "ipython",
    "version": 3
   },
   "file_extension": ".py",
   "mimetype": "text/x-python",
   "name": "python",
   "nbconvert_exporter": "python",
   "pygments_lexer": "ipython3",
   "version": "3.9.7"
  }
 },
 "nbformat": 4,
 "nbformat_minor": 5
}
